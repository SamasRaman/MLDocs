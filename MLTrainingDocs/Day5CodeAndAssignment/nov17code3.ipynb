{
 "cells": [
  {
   "cell_type": "code",
   "execution_count": 1,
   "metadata": {},
   "outputs": [
    {
     "name": "stderr",
     "output_type": "stream",
     "text": [
      "C:\\ProgramData\\Anaconda3\\lib\\site-packages\\h5py\\__init__.py:36: FutureWarning: Conversion of the second argument of issubdtype from `float` to `np.floating` is deprecated. In future, it will be treated as `np.float64 == np.dtype(float).type`.\n",
      "  from ._conv import register_converters as _register_converters\n"
     ]
    }
   ],
   "source": [
    "from tensorflow.keras import datasets,models,layers\n",
    "import pandas\n",
    "import matplotlib.pyplot as plt\n",
    "import numpy\n",
    "from sklearn.preprocessing import MinMaxScaler\n"
   ]
  },
  {
   "cell_type": "code",
   "execution_count": 2,
   "metadata": {},
   "outputs": [
    {
     "name": "stderr",
     "output_type": "stream",
     "text": [
      "C:\\ProgramData\\Anaconda3\\lib\\site-packages\\ipykernel_launcher.py:2: ParserWarning: Falling back to the 'python' engine because the 'c' engine does not support skipfooter; you can avoid this warning by specifying engine='python'.\n",
      "  \n"
     ]
    },
    {
     "data": {
      "text/html": [
       "<div>\n",
       "<style scoped>\n",
       "    .dataframe tbody tr th:only-of-type {\n",
       "        vertical-align: middle;\n",
       "    }\n",
       "\n",
       "    .dataframe tbody tr th {\n",
       "        vertical-align: top;\n",
       "    }\n",
       "\n",
       "    .dataframe thead th {\n",
       "        text-align: right;\n",
       "    }\n",
       "</style>\n",
       "<table border=\"1\" class=\"dataframe\">\n",
       "  <thead>\n",
       "    <tr style=\"text-align: right;\">\n",
       "      <th></th>\n",
       "      <th>volume</th>\n",
       "    </tr>\n",
       "    <tr>\n",
       "      <th>Month</th>\n",
       "      <th></th>\n",
       "    </tr>\n",
       "  </thead>\n",
       "  <tbody>\n",
       "    <tr>\n",
       "      <th>1949-01-01</th>\n",
       "      <td>112</td>\n",
       "    </tr>\n",
       "    <tr>\n",
       "      <th>1949-02-01</th>\n",
       "      <td>118</td>\n",
       "    </tr>\n",
       "    <tr>\n",
       "      <th>1949-03-01</th>\n",
       "      <td>132</td>\n",
       "    </tr>\n",
       "    <tr>\n",
       "      <th>1949-04-01</th>\n",
       "      <td>129</td>\n",
       "    </tr>\n",
       "    <tr>\n",
       "      <th>1949-05-01</th>\n",
       "      <td>121</td>\n",
       "    </tr>\n",
       "  </tbody>\n",
       "</table>\n",
       "</div>"
      ],
      "text/plain": [
       "            volume\n",
       "Month             \n",
       "1949-01-01     112\n",
       "1949-02-01     118\n",
       "1949-03-01     132\n",
       "1949-04-01     129\n",
       "1949-05-01     121"
      ]
     },
     "execution_count": 2,
     "metadata": {},
     "output_type": "execute_result"
    }
   ],
   "source": [
    "data=pandas.read_csv(r\"F:\\MLIoT\\ML\\dataset\\international-airline-passengers.csv\",\n",
    "                     skipfooter=3)\n",
    "data['Month']=pandas.to_datetime(data['Month'])\n",
    "data.index=data['Month']\n",
    "data.drop(['Month'],axis=1,inplace=True)\n",
    "data.columns=['volume']\n",
    "data.head()"
   ]
  },
  {
   "cell_type": "code",
   "execution_count": 3,
   "metadata": {},
   "outputs": [
    {
     "data": {
      "text/plain": [
       "array([[0.01544402, 0.02702703],\n",
       "       [0.02702703, 0.05405405],\n",
       "       [0.05405405, 0.04826255],\n",
       "       [0.04826255, 0.03281853],\n",
       "       [0.03281853, 0.05984556],\n",
       "       [0.05984556, 0.08494208],\n",
       "       [0.08494208, 0.08494208],\n",
       "       [0.08494208, 0.06177606],\n",
       "       [0.06177606, 0.02895753],\n",
       "       [0.02895753, 0.        ],\n",
       "       [0.        , 0.02702703],\n",
       "       [0.02702703, 0.02123552],\n",
       "       [0.02123552, 0.04247104],\n",
       "       [0.04247104, 0.07142857],\n",
       "       [0.07142857, 0.05984556],\n",
       "       [0.05984556, 0.04054054],\n",
       "       [0.04054054, 0.08687259],\n",
       "       [0.08687259, 0.12741313],\n",
       "       [0.12741313, 0.12741313],\n",
       "       [0.12741313, 0.1042471 ],\n",
       "       [0.1042471 , 0.05598456],\n",
       "       [0.05598456, 0.01930502],\n",
       "       [0.01930502, 0.06949807],\n",
       "       [0.06949807, 0.07915058],\n",
       "       [0.07915058, 0.08880309],\n",
       "       [0.08880309, 0.14285714],\n",
       "       [0.14285714, 0.11389961],\n",
       "       [0.11389961, 0.13127413],\n",
       "       [0.13127413, 0.14285714],\n",
       "       [0.14285714, 0.18339768],\n",
       "       [0.18339768, 0.18339768],\n",
       "       [0.18339768, 0.15444015],\n",
       "       [0.15444015, 0.11196911],\n",
       "       [0.11196911, 0.08108108],\n",
       "       [0.08108108, 0.11969112],\n",
       "       [0.11969112, 0.12934363],\n",
       "       [0.12934363, 0.14671815],\n",
       "       [0.14671815, 0.17181467],\n",
       "       [0.17181467, 0.14864865],\n",
       "       [0.14864865, 0.15250965],\n",
       "       [0.15250965, 0.22007722],\n",
       "       [0.22007722, 0.24324324],\n",
       "       [0.24324324, 0.26640927],\n",
       "       [0.26640927, 0.2027027 ],\n",
       "       [0.2027027 , 0.16795367],\n",
       "       [0.16795367, 0.13127413],\n",
       "       [0.13127413, 0.17374517],\n",
       "       [0.17374517, 0.17760618],\n",
       "       [0.17760618, 0.17760618],\n",
       "       [0.17760618, 0.25482625],\n",
       "       [0.25482625, 0.25289575],\n",
       "       [0.25289575, 0.24131274],\n",
       "       [0.24131274, 0.26833977],\n",
       "       [0.26833977, 0.30888031],\n",
       "       [0.30888031, 0.32432432],\n",
       "       [0.32432432, 0.25675676],\n",
       "       [0.25675676, 0.20656371],\n",
       "       [0.20656371, 0.14671815],\n",
       "       [0.14671815, 0.18725869],\n",
       "       [0.18725869, 0.19305019],\n",
       "       [0.19305019, 0.16216216],\n",
       "       [0.16216216, 0.25289575],\n",
       "       [0.25289575, 0.23745174],\n",
       "       [0.23745174, 0.25096525],\n",
       "       [0.25096525, 0.30888031],\n",
       "       [0.30888031, 0.38223938],\n",
       "       [0.38223938, 0.36486486],\n",
       "       [0.36486486, 0.2992278 ],\n",
       "       [0.2992278 , 0.24131274],\n",
       "       [0.24131274, 0.19111969],\n",
       "       [0.19111969, 0.24131274],\n",
       "       [0.24131274, 0.26640927],\n",
       "       [0.26640927, 0.24903475],\n",
       "       [0.24903475, 0.31467181],\n",
       "       [0.31467181, 0.31853282],\n",
       "       [0.31853282, 0.32046332],\n",
       "       [0.32046332, 0.40733591],\n",
       "       [0.40733591, 0.5019305 ],\n",
       "       [0.5019305 , 0.46911197],\n",
       "       [0.46911197, 0.4015444 ],\n",
       "       [0.4015444 , 0.32818533],\n",
       "       [0.32818533, 0.25675676],\n",
       "       [0.25675676, 0.33590734],\n",
       "       [0.33590734, 0.34749035],\n",
       "       [0.34749035, 0.33397683],\n",
       "       [0.33397683, 0.41119691],\n",
       "       [0.41119691, 0.4034749 ],\n",
       "       [0.4034749 , 0.41312741],\n",
       "       [0.41312741, 0.52123552],\n",
       "       [0.52123552, 0.5965251 ],\n",
       "       [0.5965251 , 0.58108108],\n",
       "       [0.58108108, 0.48455598],\n",
       "       [0.48455598, 0.38996139],\n",
       "       [0.38996139, 0.32239382],\n",
       "       [0.32239382, 0.38996139],\n",
       "       [0.38996139, 0.40733591],\n",
       "       [0.40733591, 0.38030888],\n",
       "       [0.38030888, 0.48648649],\n",
       "       [0.48648649, 0.47104247],\n",
       "       [0.47104247, 0.48455598],\n",
       "       [0.48455598, 0.61389961],\n",
       "       [0.61389961, 0.6969112 ],\n",
       "       [0.6969112 , 0.7007722 ],\n",
       "       [0.7007722 , 0.57915058],\n",
       "       [0.57915058, 0.46911197],\n",
       "       [0.46911197, 0.38803089],\n",
       "       [0.38803089, 0.44787645],\n",
       "       [0.44787645, 0.45559846],\n",
       "       [0.45559846, 0.41312741],\n",
       "       [0.41312741, 0.4980695 ],\n",
       "       [0.4980695 , 0.47104247],\n",
       "       [0.47104247, 0.5       ],\n",
       "       [0.5       , 0.63899614],\n",
       "       [0.63899614, 0.74710425],\n",
       "       [0.74710425, 0.77413127],\n",
       "       [0.77413127, 0.57915058],\n",
       "       [0.57915058, 0.49227799],\n",
       "       [0.49227799, 0.3976834 ],\n",
       "       [0.3976834 , 0.44980695],\n",
       "       [0.44980695, 0.49420849],\n",
       "       [0.49420849, 0.45945946],\n",
       "       [0.45945946, 0.58301158],\n",
       "       [0.58301158, 0.56370656],\n",
       "       [0.56370656, 0.61003861],\n",
       "       [0.61003861, 0.71042471],\n",
       "       [0.71042471, 0.85714286],\n",
       "       [0.85714286, 0.87837838],\n",
       "       [0.87837838, 0.69305019],\n",
       "       [0.69305019, 0.58494208],\n",
       "       [0.58494208, 0.4980695 ],\n",
       "       [0.4980695 , 0.58108108],\n",
       "       [0.58108108, 0.6042471 ],\n",
       "       [0.6042471 , 0.55405405],\n",
       "       [0.55405405, 0.60810811],\n",
       "       [0.60810811, 0.68918919],\n",
       "       [0.68918919, 0.71042471],\n",
       "       [0.71042471, 0.83204633],\n",
       "       [0.83204633, 1.        ],\n",
       "       [1.        , 0.96911197],\n",
       "       [0.96911197, 0.77992278],\n",
       "       [0.77992278, 0.68918919],\n",
       "       [0.68918919, 0.55212355],\n",
       "       [0.55212355, 0.63320463]])"
      ]
     },
     "execution_count": 3,
     "metadata": {},
     "output_type": "execute_result"
    }
   ],
   "source": [
    "data['ip']=data['volume'].shift(1)\n",
    "data=data[['ip','volume']]\n",
    "data.dropna(inplace=True)\n",
    "mm=MinMaxScaler()\n",
    "data2=mm.fit_transform(data)\n",
    "data2"
   ]
  },
  {
   "cell_type": "code",
   "execution_count": 4,
   "metadata": {},
   "outputs": [],
   "source": [
    "train=data2[:110,:]\n",
    "test=data2[110:,:]\n",
    "xtrain=train[:,0]\n",
    "xtest=test[:,0]\n",
    "ytrain=train[:,1]\n",
    "ytest=test[:,1]"
   ]
  },
  {
   "cell_type": "code",
   "execution_count": 5,
   "metadata": {},
   "outputs": [],
   "source": [
    "# input format = (samples,timestamps,features)\n",
    "xtrain=xtrain.reshape(110,1,1)\n",
    "xtest=xtest.reshape(33,1,1)"
   ]
  },
  {
   "cell_type": "markdown",
   "metadata": {},
   "source": [
    "# LSTM"
   ]
  },
  {
   "cell_type": "code",
   "execution_count": 6,
   "metadata": {},
   "outputs": [],
   "source": [
    "#start with a Neural Network\n",
    "model=models.Sequential()"
   ]
  },
  {
   "cell_type": "code",
   "execution_count": 7,
   "metadata": {},
   "outputs": [],
   "source": [
    "model.add(layers.LSTM(units=5,activation='tanh',input_shape=(1,1)))"
   ]
  },
  {
   "cell_type": "code",
   "execution_count": 8,
   "metadata": {},
   "outputs": [],
   "source": [
    "model.add(layers.Dense(1))"
   ]
  },
  {
   "cell_type": "code",
   "execution_count": 9,
   "metadata": {},
   "outputs": [],
   "source": [
    "from sklearn.metrics import mean_squared_error,r2_score\n",
    "model.compile(loss='mean_squared_error',optimizer='adam')"
   ]
  },
  {
   "cell_type": "code",
   "execution_count": 10,
   "metadata": {},
   "outputs": [
    {
     "name": "stdout",
     "output_type": "stream",
     "text": [
      "Epoch 1/100\n",
      "110/110 [==============================] - 2s 21ms/step - loss: 0.0694\n",
      "Epoch 2/100\n",
      "110/110 [==============================] - 0s 299us/step - loss: 0.0663\n",
      "Epoch 3/100\n",
      "110/110 [==============================] - 0s 308us/step - loss: 0.0630\n",
      "Epoch 4/100\n",
      "110/110 [==============================] - 0s 290us/step - loss: 0.0598\n",
      "Epoch 5/100\n",
      "110/110 [==============================] - 0s 290us/step - loss: 0.0567\n",
      "Epoch 6/100\n",
      "110/110 [==============================] - 0s 272us/step - loss: 0.0536\n",
      "Epoch 7/100\n",
      "110/110 [==============================] - 0s 254us/step - loss: 0.0507\n",
      "Epoch 8/100\n",
      "110/110 [==============================] - 0s 281us/step - loss: 0.0478\n",
      "Epoch 9/100\n",
      "110/110 [==============================] - 0s 272us/step - loss: 0.0452\n",
      "Epoch 10/100\n",
      "110/110 [==============================] - 0s 281us/step - loss: 0.0425\n",
      "Epoch 11/100\n",
      "110/110 [==============================] - 0s 290us/step - loss: 0.0402\n",
      "Epoch 12/100\n",
      "110/110 [==============================] - 0s 272us/step - loss: 0.0378\n",
      "Epoch 13/100\n",
      "110/110 [==============================] - 0s 245us/step - loss: 0.0356\n",
      "Epoch 14/100\n",
      "110/110 [==============================] - 0s 236us/step - loss: 0.0336\n",
      "Epoch 15/100\n",
      "110/110 [==============================] - 0s 281us/step - loss: 0.0316\n",
      "Epoch 16/100\n",
      "110/110 [==============================] - 0s 290us/step - loss: 0.0298\n",
      "Epoch 17/100\n",
      "110/110 [==============================] - 0s 263us/step - loss: 0.0282\n",
      "Epoch 18/100\n",
      "110/110 [==============================] - 0s 245us/step - loss: 0.0266\n",
      "Epoch 19/100\n",
      "110/110 [==============================] - 0s 245us/step - loss: 0.0253\n",
      "Epoch 20/100\n",
      "110/110 [==============================] - 0s 263us/step - loss: 0.0239\n",
      "Epoch 21/100\n",
      "110/110 [==============================] - 0s 245us/step - loss: 0.0228\n",
      "Epoch 22/100\n",
      "110/110 [==============================] - 0s 281us/step - loss: 0.0217\n",
      "Epoch 23/100\n",
      "110/110 [==============================] - 0s 272us/step - loss: 0.0208\n",
      "Epoch 24/100\n",
      "110/110 [==============================] - 0s 245us/step - loss: 0.0200\n",
      "Epoch 25/100\n",
      "110/110 [==============================] - 0s 281us/step - loss: 0.0192\n",
      "Epoch 26/100\n",
      "110/110 [==============================] - 0s 245us/step - loss: 0.0185\n",
      "Epoch 27/100\n",
      "110/110 [==============================] - 0s 272us/step - loss: 0.0179\n",
      "Epoch 28/100\n",
      "110/110 [==============================] - 0s 245us/step - loss: 0.0173\n",
      "Epoch 29/100\n",
      "110/110 [==============================] - 0s 236us/step - loss: 0.0169\n",
      "Epoch 30/100\n",
      "110/110 [==============================] - 0s 290us/step - loss: 0.0165\n",
      "Epoch 31/100\n",
      "110/110 [==============================] - 0s 272us/step - loss: 0.0161\n",
      "Epoch 32/100\n",
      "110/110 [==============================] - 0s 263us/step - loss: 0.0158\n",
      "Epoch 33/100\n",
      "110/110 [==============================] - 0s 263us/step - loss: 0.0155\n",
      "Epoch 34/100\n",
      "110/110 [==============================] - 0s 281us/step - loss: 0.0153\n",
      "Epoch 35/100\n",
      "110/110 [==============================] - 0s 254us/step - loss: 0.0151\n",
      "Epoch 36/100\n",
      "110/110 [==============================] - 0s 281us/step - loss: 0.0149\n",
      "Epoch 37/100\n",
      "110/110 [==============================] - 0s 245us/step - loss: 0.0147\n",
      "Epoch 38/100\n",
      "110/110 [==============================] - 0s 272us/step - loss: 0.0145\n",
      "Epoch 39/100\n",
      "110/110 [==============================] - 0s 272us/step - loss: 0.0143\n",
      "Epoch 40/100\n",
      "110/110 [==============================] - 0s 263us/step - loss: 0.0142\n",
      "Epoch 41/100\n",
      "110/110 [==============================] - 0s 254us/step - loss: 0.0141\n",
      "Epoch 42/100\n",
      "110/110 [==============================] - 0s 272us/step - loss: 0.0139\n",
      "Epoch 43/100\n",
      "110/110 [==============================] - 0s 254us/step - loss: 0.0138\n",
      "Epoch 44/100\n",
      "110/110 [==============================] - 0s 263us/step - loss: 0.0137\n",
      "Epoch 45/100\n",
      "110/110 [==============================] - 0s 236us/step - loss: 0.0136\n",
      "Epoch 46/100\n",
      "110/110 [==============================] - 0s 290us/step - loss: 0.0134\n",
      "Epoch 47/100\n",
      "110/110 [==============================] - 0s 263us/step - loss: 0.0133\n",
      "Epoch 48/100\n",
      "110/110 [==============================] - 0s 254us/step - loss: 0.0132\n",
      "Epoch 49/100\n",
      "110/110 [==============================] - 0s 272us/step - loss: 0.0131\n",
      "Epoch 50/100\n",
      "110/110 [==============================] - 0s 272us/step - loss: 0.0130\n",
      "Epoch 51/100\n",
      "110/110 [==============================] - 0s 245us/step - loss: 0.0129\n",
      "Epoch 52/100\n",
      "110/110 [==============================] - 0s 254us/step - loss: 0.0128\n",
      "Epoch 53/100\n",
      "110/110 [==============================] - 0s 245us/step - loss: 0.0127\n",
      "Epoch 54/100\n",
      "110/110 [==============================] - 0s 299us/step - loss: 0.0125\n",
      "Epoch 55/100\n",
      "110/110 [==============================] - 0s 326us/step - loss: 0.0124\n",
      "Epoch 56/100\n",
      "110/110 [==============================] - 0s 272us/step - loss: 0.0123\n",
      "Epoch 57/100\n",
      "110/110 [==============================] - 0s 272us/step - loss: 0.0122\n",
      "Epoch 58/100\n",
      "110/110 [==============================] - 0s 245us/step - loss: 0.0121\n",
      "Epoch 59/100\n",
      "110/110 [==============================] - 0s 245us/step - loss: 0.0120\n",
      "Epoch 60/100\n",
      "110/110 [==============================] - 0s 245us/step - loss: 0.0119\n",
      "Epoch 61/100\n",
      "110/110 [==============================] - 0s 245us/step - loss: 0.0117\n",
      "Epoch 62/100\n",
      "110/110 [==============================] - 0s 281us/step - loss: 0.0116\n",
      "Epoch 63/100\n",
      "110/110 [==============================] - 0s 263us/step - loss: 0.0115\n",
      "Epoch 64/100\n",
      "110/110 [==============================] - 0s 281us/step - loss: 0.0114\n",
      "Epoch 65/100\n",
      "110/110 [==============================] - 0s 254us/step - loss: 0.0112\n",
      "Epoch 66/100\n",
      "110/110 [==============================] - 0s 299us/step - loss: 0.0111\n",
      "Epoch 67/100\n",
      "110/110 [==============================] - 0s 290us/step - loss: 0.0110\n",
      "Epoch 68/100\n",
      "110/110 [==============================] - 0s 272us/step - loss: 0.0109\n",
      "Epoch 69/100\n",
      "110/110 [==============================] - 0s 245us/step - loss: 0.0108\n",
      "Epoch 70/100\n",
      "110/110 [==============================] - 0s 263us/step - loss: 0.0107\n",
      "Epoch 71/100\n",
      "110/110 [==============================] - 0s 272us/step - loss: 0.0105\n",
      "Epoch 72/100\n",
      "110/110 [==============================] - 0s 254us/step - loss: 0.0104\n",
      "Epoch 73/100\n",
      "110/110 [==============================] - 0s 254us/step - loss: 0.0103\n",
      "Epoch 74/100\n",
      "110/110 [==============================] - 0s 254us/step - loss: 0.0102\n",
      "Epoch 75/100\n",
      "110/110 [==============================] - 0s 263us/step - loss: 0.0101\n",
      "Epoch 76/100\n",
      "110/110 [==============================] - 0s 281us/step - loss: 0.0099\n",
      "Epoch 77/100\n",
      "110/110 [==============================] - 0s 290us/step - loss: 0.0098\n",
      "Epoch 78/100\n",
      "110/110 [==============================] - 0s 263us/step - loss: 0.0097\n",
      "Epoch 79/100\n",
      "110/110 [==============================] - 0s 272us/step - loss: 0.0096\n",
      "Epoch 80/100\n",
      "110/110 [==============================] - 0s 254us/step - loss: 0.0095\n",
      "Epoch 81/100\n",
      "110/110 [==============================] - 0s 263us/step - loss: 0.0093\n",
      "Epoch 82/100\n",
      "110/110 [==============================] - 0s 254us/step - loss: 0.0092\n",
      "Epoch 83/100\n",
      "110/110 [==============================] - 0s 263us/step - loss: 0.0091\n",
      "Epoch 84/100\n",
      "110/110 [==============================] - 0s 245us/step - loss: 0.0090\n",
      "Epoch 85/100\n",
      "110/110 [==============================] - 0s 272us/step - loss: 0.0089\n",
      "Epoch 86/100\n",
      "110/110 [==============================] - 0s 263us/step - loss: 0.0088\n",
      "Epoch 87/100\n",
      "110/110 [==============================] - 0s 281us/step - loss: 0.0086\n",
      "Epoch 88/100\n",
      "110/110 [==============================] - 0s 326us/step - loss: 0.0085\n",
      "Epoch 89/100\n",
      "110/110 [==============================] - 0s 290us/step - loss: 0.0084\n",
      "Epoch 90/100\n",
      "110/110 [==============================] - 0s 272us/step - loss: 0.0083\n",
      "Epoch 91/100\n",
      "110/110 [==============================] - 0s 263us/step - loss: 0.0082\n",
      "Epoch 92/100\n",
      "110/110 [==============================] - 0s 263us/step - loss: 0.0080\n",
      "Epoch 93/100\n",
      "110/110 [==============================] - 0s 254us/step - loss: 0.0079\n",
      "Epoch 94/100\n",
      "110/110 [==============================] - 0s 254us/step - loss: 0.0078\n",
      "Epoch 95/100\n",
      "110/110 [==============================] - 0s 245us/step - loss: 0.0077\n",
      "Epoch 96/100\n",
      "110/110 [==============================] - 0s 209us/step - loss: 0.0076\n",
      "Epoch 97/100\n"
     ]
    },
    {
     "name": "stdout",
     "output_type": "stream",
     "text": [
      "110/110 [==============================] - 0s 263us/step - loss: 0.0075\n",
      "Epoch 98/100\n",
      "110/110 [==============================] - 0s 263us/step - loss: 0.0074\n",
      "Epoch 99/100\n",
      "110/110 [==============================] - 0s 245us/step - loss: 0.0072\n",
      "Epoch 100/100\n",
      "110/110 [==============================] - 0s 218us/step - loss: 0.0071\n"
     ]
    },
    {
     "data": {
      "text/plain": [
       "<tensorflow.python.keras.callbacks.History at 0x2b1b78e9390>"
      ]
     },
     "execution_count": 10,
     "metadata": {},
     "output_type": "execute_result"
    }
   ],
   "source": [
    "model.fit(xtrain,ytrain,epochs=100,verbose=True)"
   ]
  },
  {
   "cell_type": "code",
   "execution_count": 11,
   "metadata": {},
   "outputs": [
    {
     "data": {
      "text/plain": [
       "-0.7438209766472614"
      ]
     },
     "execution_count": 11,
     "metadata": {},
     "output_type": "execute_result"
    }
   ],
   "source": [
    "from sklearn.metrics import r2_score\n",
    "ypred=model.predict(xtest)\n",
    "r2_score(ytest,ypred)"
   ]
  },
  {
   "cell_type": "code",
   "execution_count": 34,
   "metadata": {},
   "outputs": [],
   "source": [
    "ypred=numpy.zeros((143)).reshape(143,1)\n",
    "ypred[:110,0]=numpy.nan\n",
    "ypred[110:,0]=model.predict(xtest)[:,0]"
   ]
  },
  {
   "cell_type": "code",
   "execution_count": 35,
   "metadata": {},
   "outputs": [
    {
     "data": {
      "image/png": "[encoded data removed]",
      "text/plain": [
       "<Figure size 432x288 with 1 Axes>"
      ]
     },
     "metadata": {},
     "output_type": "display_data"
    }
   ],
   "source": [
    "plt.plot(data2[:,1],'r')\n",
    "plt.plot(model.predict(xtrain),'g')\n",
    "plt.plot(ypred,'b')\n",
    "plt.show()"
   ]
  },
  {
   "cell_type": "code",
   "execution_count": 18,
   "metadata": {},
   "outputs": [
    {
     "data": {
      "text/plain": [
       "(143,)"
      ]
     },
     "execution_count": 18,
     "metadata": {},
     "output_type": "execute_result"
    }
   ],
   "source": [
    "ypred.shape"
   ]
  },
  {
   "cell_type": "code",
   "execution_count": 24,
   "metadata": {},
   "outputs": [
    {
     "data": {
      "text/plain": [
       "(33, 1)"
      ]
     },
     "execution_count": 24,
     "metadata": {},
     "output_type": "execute_result"
    }
   ],
   "source": [
    "xtest[:,0].shape"
   ]
  },
  {
   "cell_type": "code",
   "execution_count": 33,
   "metadata": {},
   "outputs": [
    {
     "ename": "TypeError",
     "evalue": "'float' object is not callable",
     "output_type": "error",
     "traceback": [
      "\u001b[1;31m---------------------------------------------------------------------------\u001b[0m",
      "\u001b[1;31mTypeError\u001b[0m                                 Traceback (most recent call last)",
      "\u001b[1;32m<ipython-input-33-aac28bc0886a>\u001b[0m in \u001b[0;36m<module>\u001b[1;34m()\u001b[0m\n\u001b[1;32m----> 1\u001b[1;33m \u001b[0mnumpy\u001b[0m\u001b[1;33m.\u001b[0m\u001b[0mNAN\u001b[0m\u001b[1;33m(\u001b[0m\u001b[1;36m5\u001b[0m\u001b[1;33m)\u001b[0m\u001b[1;33m\u001b[0m\u001b[0m\n\u001b[0m",
      "\u001b[1;31mTypeError\u001b[0m: 'float' object is not callable"
     ]
    }
   ],
   "source": []
  },
  {
   "cell_type": "code",
   "execution_count": null,
   "metadata": {},
   "outputs": [],
   "source": []
  }
 ],
 "metadata": {
  "kernelspec": {
   "display_name": "Python 3",
   "language": "python",
   "name": "python3"
  },
  "language_info": {
   "codemirror_mode": {
    "name": "ipython",
    "version": 3
   },
   "file_extension": ".py",
   "mimetype": "text/x-python",
   "name": "python",
   "nbconvert_exporter": "python",
   "pygments_lexer": "ipython3",
   "version": "3.6.5"
  }
 },
 "nbformat": 4,
 "nbformat_minor": 2
}
